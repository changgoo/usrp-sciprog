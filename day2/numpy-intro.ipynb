{
 "cells": [
  {
   "cell_type": "markdown",
   "metadata": {},
   "source": [
    "# Introduction to numpy"
   ]
  },
  {
   "cell_type": "markdown",
   "metadata": {},
   "source": [
    "   Numpy is a package that contains types and functions for mathematical calculations on arrays. The numpy library is vast and encapsulates a wide range of tools for linear algebra, Fourrier analysis, satistics and much more. The full manual for numpy can be found here:\n",
    "    https://docs.scipy.org/doc/numpy/reference/\n",
    "    \n",
    "   In this tutorial, we will touch on the basics of numpy and see how numpy can be a convenient tool for artithmetic operations on arbitrarilly large arrays. \n",
    "   In addition to this, we will also see a brief introduction to matplotlib, which contains tools to display diagrams or images that help illustrating the results of your calculations.\n",
    "   \n",
    "   Numpy is almost universally import using the alias 'np'. Given that codes using numpy will generally make frequent use of calls to numpy functions or objects, the loss of the 3 letters actually matters."
   ]
  },
  {
   "cell_type": "code",
   "execution_count": null,
   "metadata": {},
   "outputs": [],
   "source": [
    "# Let's first import the package\n",
    "import numpy as np\n",
    "#Tadaaaa now we have all the power of the mighty numpy at our disposal. \n",
    "#Let's use it responsibly"
   ]
  },
  {
   "cell_type": "markdown",
   "metadata": {},
   "source": [
    "## Numpy's ndarray\n",
    "\n",
    "One of the reasons that makes numpy a great tool for computations on arrays is it ndarray calls. This class allows to declare arrays with a number of convenient methods and attributes that makes our life easier when programming complex algorithms on large arrays."
   ]
  },
  {
   "cell_type": "code",
   "execution_count": null,
   "metadata": {},
   "outputs": [],
   "source": [
    "#Now let's see what one of its instances looks like:\n",
    "a = np.ndarray(4)\n",
    "b = np.ndarray([3,4])\n",
    "print(type(b))\n",
    "print('a: ', a)\n",
    "print('b: ', b)"
   ]
  },
  {
   "cell_type": "markdown",
   "metadata": {},
   "source": [
    "There is a wide range of numpy functions that allow to declare ndarrays filled with your favourite flavours:\n",
    "\n",
    "https://docs.scipy.org/doc/numpy/reference/routines.array-creation.html"
   ]
  },
  {
   "cell_type": "code",
   "execution_count": null,
   "metadata": {},
   "outputs": [],
   "source": [
    "# zeros\n",
    "z = np.zeros(5)\n",
    "print(type(z))\n",
    "print(z)"
   ]
  },
  {
   "cell_type": "code",
   "execution_count": null,
   "metadata": {},
   "outputs": [],
   "source": [
    "# ones\n",
    "o = np.ones((4,2))\n",
    "print(type(o))\n",
    "print(o)"
   ]
  },
  {
   "cell_type": "code",
   "execution_count": null,
   "metadata": {},
   "outputs": [],
   "source": [
    "# ordered integers\n",
    "oi = np.arange(10) #Only one-dimensional\n",
    "print(type(oi))\n",
    "print(oi)"
   ]
  },
  {
   "cell_type": "markdown",
   "metadata": {},
   "source": [
    "### Operations on ndarrays\n",
    "\n",
    "Arithmetic operations on ndarrays are possible using python's symbols. It is important to notice that these operations are performed term by term on arrays of same size and dimensions. It is also possible to make operations between ndarrays and numbers, in which case, the same operation is performed on all the elements of the array. This is more generally true for operations on arrays where one array lacks one or several dimensions."
   ]
  },
  {
   "cell_type": "code",
   "execution_count": null,
   "metadata": {},
   "outputs": [],
   "source": [
    "#An array of ones\n",
    "x = np.arange(5)\n",
    "#An array of random values drawn uniformly between 0 and 1\n",
    "y = np.random.rand(5)\n",
    "print('x: ', x)\n",
    "print('y: ', y)"
   ]
  },
  {
   "cell_type": "code",
   "execution_count": null,
   "metadata": {},
   "outputs": [],
   "source": [
    "print('addition: ', x + y)\n",
    "print('mutliplication: ', x * y)\n",
    "print('power: ', x ** y)"
   ]
  },
  {
   "cell_type": "code",
   "execution_count": null,
   "metadata": {},
   "outputs": [],
   "source": [
    "#Operation with numbers\n",
    "print('subtraction: ', x - 3)\n",
    "print('fraction: ', x / 2)\n",
    "print('power: ', x ** 0.5)"
   ]
  },
  {
   "cell_type": "code",
   "execution_count": null,
   "metadata": {},
   "outputs": [],
   "source": [
    "#Beware incompatible shapes: (play with the dimensions of y)\n",
    "y = np.ones((6))\n",
    "print('addition: ', x + y)\n",
    "print('mutliplication: ', x * y)\n",
    "print('power: ', x ** y)"
   ]
  },
  {
   "cell_type": "markdown",
   "metadata": {},
   "source": [
    "ndarrays and numpy also have methods or functions to perform matrix operations:"
   ]
  },
  {
   "cell_type": "code",
   "execution_count": null,
   "metadata": {},
   "outputs": [],
   "source": [
    "#Let's just declare some new arrays\n",
    "x = (np.random.rand(4,5)*10).astype(int) # note, astype is a method that allows to change the type of all the elements in the ndarray\n",
    "y = np.ones((5))+1\n",
    "# Note: here, show addition of non-matching shapes\n",
    "#np.ones((5,3,4))+np.random.randn(4)"
   ]
  },
  {
   "cell_type": "code",
   "execution_count": null,
   "metadata": {},
   "outputs": [],
   "source": [
    "#transpose\n",
    "print('the array x: \\n', x)\n",
    "print('its transpose: \\n', x.T)"
   ]
  },
  {
   "cell_type": "code",
   "execution_count": null,
   "metadata": {},
   "outputs": [],
   "source": [
    "#Matrix multiplication (play with the dimensions of y to see how this impact the results)\n",
    "z1 = np.dot(x,y)\n",
    "z2 = x.dot(y)\n",
    "print(z1)\n",
    "print(z2)\n"
   ]
  },
  {
   "cell_type": "markdown",
   "metadata": {},
   "source": [
    "### array shapes\n",
    "It is possible to access the shape and size (there is a difference!) of an array, and even to alter its shape in various different ways."
   ]
  },
  {
   "cell_type": "code",
   "execution_count": null,
   "metadata": {},
   "outputs": [],
   "source": [
    "print('Shape of x: ',x.shape) # From ndarray attributes\n",
    "print('Shape of y: ',np.shape(y)) # From numpy function"
   ]
  },
  {
   "cell_type": "code",
   "execution_count": null,
   "metadata": {},
   "outputs": [],
   "source": [
    "print('Size of x: ', x.size) # From ndarray attributes\n",
    "print('Size of y: ', np.size(y)) # From numpy function"
   ]
  },
  {
   "cell_type": "markdown",
   "metadata": {},
   "source": [
    "Now this is how we can change an array's size:"
   ]
  },
  {
   "cell_type": "code",
   "execution_count": null,
   "metadata": {},
   "outputs": [],
   "source": [
    "print('the original array: \\n', x)\n",
    "print('change of shape: \\n', x.reshape((10,2)))#reshape 4x5 into 10x2\n",
    "print('change of shape and number of dimensions: \\n', x.reshape((5,2,2)))#reshape 4x5 into 5x2x2\n",
    "print('the size has to be conserved: \\n', x.reshape((10,2)).size)"
   ]
  },
  {
   "cell_type": "code",
   "execution_count": null,
   "metadata": {},
   "outputs": [],
   "source": [
    "#flattenning an array:\n",
    "xflat = x.flatten()\n",
    "\n",
    "print('flattened array: \\n {} \\n with shape {}'.format(xflat, xflat.shape))\n"
   ]
  },
  {
   "cell_type": "markdown",
   "metadata": {},
   "source": [
    "### Indexing with numpy\n",
    "\n",
    "For the most part, indexing in numpy works exactly as we saw in python. We are going to use this section to introduce a couple of features for indexing (some native from python) that can significantly improve your coding skills. In particular, numpy introduces a particularly useful object: np.newaxis."
   ]
  },
  {
   "cell_type": "code",
   "execution_count": null,
   "metadata": {},
   "outputs": [],
   "source": [
    "#conventional indexing\n",
    "print(x)\n",
    "print('first line of x: {}'.format(x[0,:]))\n",
    "print('second column of x: {}'.format(x[:,1]))\n",
    "print('last element of x: {}'.format(x[-1,-1]))"
   ]
  },
  {
   "cell_type": "code",
   "execution_count": null,
   "metadata": {},
   "outputs": [],
   "source": [
    "#selection \n",
    "print('One element in 3 between the second and 13th element: ', xflat[1:14:3])\n",
    "#This selection writes as array[begin:end:step]\n",
    "#Equivalent to:\n",
    "print('One element in 3 between the second and 13th element: ', xflat[slice(1,14,3)])\n",
    "#Both notations are strictly equivalent, but slice allows to declare slices that can be used in different arrays:\n",
    "sl1 = slice(1,3,1)\n",
    "sl2 = slice(0,-1,2)\n",
    "print('sliced array: ', x[sl1, sl2])"
   ]
  },
  {
   "cell_type": "code",
   "execution_count": null,
   "metadata": {},
   "outputs": [],
   "source": [
    "# Inverting the order in an array\n",
    "print(xflat)\n",
    "print(xflat[::-1])"
   ]
  },
  {
   "cell_type": "code",
   "execution_count": null,
   "metadata": {},
   "outputs": [],
   "source": [
    "#conditional indexing\n",
    "print('all numbers greater that 3: ', x[x>3])\n",
    "bool_array = (x > 3)\n",
    "print('bool arrray is an array of booleans that can be used as indices: \\n',bool_array)\n",
    "print('all numbers greater that 3: ', x[bool_array])"
   ]
  },
  {
   "cell_type": "code",
   "execution_count": null,
   "metadata": {},
   "outputs": [],
   "source": [
    "#Ellipsis: select all across all missing dimensions\n",
    "x_multi = np.arange(32).reshape(2,2,4,2)\n",
    "print(x_multi)\n",
    "print(x_multi[0,...,1])\n",
    "print(x_multi[0,:,:,1])"
   ]
  },
  {
   "cell_type": "markdown",
   "metadata": {},
   "source": [
    "### ndarray method for simple operations on array elements \n",
    "\n",
    "Here I list a small number of ndarray methods that are very convenient and often used in astronomy and image processing. It is always a good thing to have them in mind to simplfy your code. Of course, we only take a look at a few of them, but there is plenty more where it comes from."
   ]
  },
  {
   "cell_type": "code",
   "execution_count": null,
   "metadata": {},
   "outputs": [],
   "source": [
    "a = np.linspace(1,6,3) # 3 values evenly spaced between 1 and 6\n",
    "b = np.arange(16).reshape(4,4)\n",
    "c = np.random.randn(3,4)*10 # random draws from a normal distribution with standard deviation 10\n",
    "print(f'Here are 3 new arrays, a:\\n {a}, \\nb:\\n {b}\\nand c:\\n {c}')"
   ]
  },
  {
   "cell_type": "code",
   "execution_count": null,
   "metadata": {},
   "outputs": [],
   "source": [
    "#Sum the elements of an array\n",
    "print('Sum over all of the array\\'s elements: ', a.sum())\n",
    "print('Sum along the lines: ', b.sum(axis = 1))\n",
    "print('Sum along the columns: ', b.sum(axis = 0))\n",
    "#The axis option will be available for most numpy functions/methods"
   ]
  },
  {
   "cell_type": "code",
   "execution_count": null,
   "metadata": {},
   "outputs": [],
   "source": [
    "#Compute the mean and standard deviation:\n",
    "print('mean of an array: ', b.mean())\n",
    "print('std of an array: ', c.std())"
   ]
  },
  {
   "cell_type": "code",
   "execution_count": null,
   "metadata": {},
   "outputs": [],
   "source": [
    "#min and max of an array and teir positions\n",
    "print('the minimum value of array b is {} and it is at position {}'.format(b.min(), b.argmin()))\n",
    "print('the maximum value of array c is {} and it is at position {}'.format(c.max(), c.argmax()))"
   ]
  },
  {
   "cell_type": "code",
   "execution_count": null,
   "metadata": {},
   "outputs": [],
   "source": [
    "#sort an array's elements along one axis or return the indexes of the sorted array's element:\n",
    "print('c', c)\n",
    "argc = c.argsort()\n",
    "print('The indexes that sort c and a sorted verison of c: \\n \\n {}\\nand \\n {} \\n'.format(argc,c.sort()))"
   ]
  },
  {
   "cell_type": "markdown",
   "metadata": {},
   "source": [
    "Oups, not what we were expecting, but what happened is that c was replaced by its sorted version. \n",
    "This is an in-place computation."
   ]
  },
  {
   "cell_type": "code",
   "execution_count": null,
   "metadata": {},
   "outputs": [],
   "source": [
    "print(c)"
   ]
  },
  {
   "cell_type": "code",
   "execution_count": null,
   "metadata": {},
   "outputs": [],
   "source": [
    "#Your turn now: give me the ALL the elements of c sorted (not just along one axis). \n",
    "\n",
    "#Your answer...."
   ]
  },
  {
   "cell_type": "code",
   "execution_count": null,
   "metadata": {},
   "outputs": [],
   "source": [
    "#Then, sort the array in decreasing order\n",
    "\n",
    "#Your answer...."
   ]
  },
  {
   "cell_type": "markdown",
   "metadata": {},
   "source": [
    "Now, we are going to see an important feature in numpy. While one can live without nowing this trick, one cannot be a good python coder without using it. I am talking about the mighty:\n",
    "# Newaxis!!\n",
    "Newaxis allows to add a dimension to an array. This allows to expand arrays in a cheap way, which leads to faster operations on large arrays.\n"
   ]
  },
  {
   "cell_type": "code",
   "execution_count": null,
   "metadata": {},
   "outputs": [],
   "source": [
    "import numpy as np\n",
    "#A couple of arrays first:\n",
    "x_arr = np.arange(10)\n",
    "y_arr = np.arange(10)\n",
    "print(x_arr.shape)\n",
    "x = x_arr[np.newaxis,:]\n",
    "print(x.shape)\n",
    "print(x_arr)\n",
    "print(x)\n",
    "print(x+x_arr)"
   ]
  },
  {
   "cell_type": "code",
   "execution_count": null,
   "metadata": {},
   "outputs": [],
   "source": [
    "#Now let's index these with newaxes:\n",
    "print('Newaxis indexed array \\n {} and its shape \\n {}'.format(x_arr[:,np.newaxis],x_arr[:,np.newaxis].shape))\n",
    "print('None leads to the same result: array \\n {} and shape \\n {}'.format(y_arr[None,:],y_arr[None,:].shape))"
   ]
  },
  {
   "cell_type": "code",
   "execution_count": null,
   "metadata": {},
   "outputs": [],
   "source": [
    "#Sum of elements\n",
    "print('sum of the arrays:', (x_arr + y_arr))"
   ]
  },
  {
   "cell_type": "code",
   "execution_count": null,
   "metadata": {},
   "outputs": [],
   "source": [
    "#Sum of elements with newaxes\n",
    "print('sum of the arrays: \\n', (x_arr[None, :] + y_arr[:, None]))"
   ]
  },
  {
   "cell_type": "code",
   "execution_count": null,
   "metadata": {},
   "outputs": [],
   "source": [
    "#This is because we have been summing these arrays:\n",
    "print('   ',x_arr[None, :])\n",
    "print(y_arr[:, None])"
   ]
  },
  {
   "cell_type": "markdown",
   "metadata": {},
   "source": [
    "# A quick intro to matplotlib\n",
    "\n",
    "When wrinting complex algorithms, it is important to be able to chack that calculations are done properly, but also to be able to display results in a clear manner. When dimaensionality and size are small, it is still possible to rely on printing, but more generally and for better clarity, drawing graphs will come handy"
   ]
  },
  {
   "cell_type": "code",
   "execution_count": null,
   "metadata": {},
   "outputs": [],
   "source": [
    "import matplotlib.pyplot as plt"
   ]
  },
  {
   "cell_type": "code",
   "execution_count": null,
   "metadata": {},
   "outputs": [],
   "source": [
    "%matplotlib inline"
   ]
  },
  {
   "cell_type": "code",
   "execution_count": null,
   "metadata": {},
   "outputs": [],
   "source": [
    "x = np.linspace(0,5,100)"
   ]
  },
  {
   "cell_type": "code",
   "execution_count": null,
   "metadata": {},
   "outputs": [],
   "source": [
    "#Plotting a curve\n",
    "plt.plot(np.exp(x))\n",
    "plt.show()"
   ]
  },
  {
   "cell_type": "code",
   "execution_count": null,
   "metadata": {},
   "outputs": [],
   "source": [
    "#The same curve with the right x-axis in red dashed line\n",
    "plt.plot(x, np.exp(x), '--r')\n",
    "plt.show()"
   ]
  },
  {
   "cell_type": "code",
   "execution_count": null,
   "metadata": {},
   "outputs": [],
   "source": [
    "#The same curve with the right x-axis and only the points in the data as dots\n",
    "plt.plot(x[::4], np.exp(x[::4]), 'or')\n",
    "plt.show()"
   ]
  },
  {
   "cell_type": "code",
   "execution_count": null,
   "metadata": {},
   "outputs": [],
   "source": []
  }
 ],
 "metadata": {
  "kernelspec": {
   "display_name": "Python 3 (ipykernel)",
   "language": "python",
   "name": "python3"
  },
  "language_info": {
   "codemirror_mode": {
    "name": "ipython",
    "version": 3
   },
   "file_extension": ".py",
   "mimetype": "text/x-python",
   "name": "python",
   "nbconvert_exporter": "python",
   "pygments_lexer": "ipython3",
   "version": "3.9.7"
  }
 },
 "nbformat": 4,
 "nbformat_minor": 4
}
